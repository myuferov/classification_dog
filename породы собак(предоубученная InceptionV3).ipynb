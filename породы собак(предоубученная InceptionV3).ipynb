{
 "cells": [
  {
   "cell_type": "code",
   "execution_count": 1,
   "metadata": {
    "execution": {
     "iopub.execute_input": "2021-03-25T15:41:41.347800Z",
     "iopub.status.busy": "2021-03-25T15:41:41.347073Z",
     "iopub.status.idle": "2021-03-25T15:41:41.350046Z",
     "shell.execute_reply": "2021-03-25T15:41:41.349574Z"
    },
    "papermill": {
     "duration": 0.020358,
     "end_time": "2021-03-25T15:41:41.350222",
     "exception": false,
     "start_time": "2021-03-25T15:41:41.329864",
     "status": "completed"
    },
    "tags": []
   },
   "outputs": [],
   "source": [
    "# Настройки нейросети\n",
    "img_size = 224 # Размер изображения\n",
    "num_class = 120 # Кол-во классов\n",
    "batch_size = 32\n",
    "Epochs = 64"
   ]
  },
  {
   "cell_type": "code",
   "execution_count": 2,
   "metadata": {
    "execution": {
     "iopub.execute_input": "2021-03-25T15:41:41.379200Z",
     "iopub.status.busy": "2021-03-25T15:41:41.378682Z",
     "iopub.status.idle": "2021-03-25T15:41:46.720237Z",
     "shell.execute_reply": "2021-03-25T15:41:46.718234Z"
    },
    "papermill": {
     "duration": 5.358373,
     "end_time": "2021-03-25T15:41:46.720456",
     "exception": false,
     "start_time": "2021-03-25T15:41:41.362083",
     "status": "completed"
    },
    "tags": []
   },
   "outputs": [],
   "source": [
    "# for garbage collection\n",
    "import gc\n",
    "\n",
    "# for warnings\n",
    "import warnings\n",
    "warnings.filterwarnings(\"ignore\")\n",
    "\n",
    "# utility libraries\n",
    "import os\n",
    "import copy\n",
    "import tqdm\n",
    "import numpy as np \n",
    "import pandas as pd \n",
    "import cv2, random, time, shutil, csv\n",
    "import tensorflow as tf\n",
    "import math\n",
    "\n",
    "# keras libraries\n",
    "import keras\n",
    "from keras.preprocessing.image import ImageDataGenerator\n",
    "from keras.models import Model\n",
    "from keras.layers import BatchNormalization, Dense, GlobalAveragePooling2D, Lambda, Dropout, InputLayer, Input\n",
    "from keras.utils import to_categorical\n",
    "from keras import backend as K"
   ]
  },
  {
   "cell_type": "code",
   "execution_count": 3,
   "metadata": {
    "execution": {
     "iopub.execute_input": "2021-03-25T15:41:46.768648Z",
     "iopub.status.busy": "2021-03-25T15:41:46.767477Z",
     "iopub.status.idle": "2021-03-25T15:41:47.529078Z",
     "shell.execute_reply": "2021-03-25T15:41:47.529710Z"
    },
    "papermill": {
     "duration": 0.789532,
     "end_time": "2021-03-25T15:41:47.529919",
     "exception": false,
     "start_time": "2021-03-25T15:41:46.740387",
     "status": "completed"
    },
    "tags": []
   },
   "outputs": [],
   "source": [
    "import tensorflow.keras as keras\n",
    "from keras import regularizers\n",
    "from keras.models import Model\n",
    "from keras.models import Sequential\n",
    "from keras.layers.convolutional import Conv2D, MaxPooling2D, ZeroPadding2D\n",
    "from keras.layers import Dense, Dropout, Flatten\n",
    "from tensorflow.keras.metrics import categorical_accuracy, categorical_crossentropy\n",
    "\n",
    "from sklearn import preprocessing\n",
    "from sklearn.model_selection import train_test_split\n",
    "from keras.preprocessing.image import load_img\n",
    "from keras.preprocessing.image import img_to_array\n",
    "from keras.preprocessing.image import ImageDataGenerator\n",
    "from keras.applications.inception_v3 import InceptionV3"
   ]
  },
  {
   "cell_type": "code",
   "execution_count": 4,
   "metadata": {
    "execution": {
     "iopub.execute_input": "2021-03-25T15:41:47.579072Z",
     "iopub.status.busy": "2021-03-25T15:41:47.578377Z",
     "iopub.status.idle": "2021-03-25T15:43:56.428099Z",
     "shell.execute_reply": "2021-03-25T15:43:56.428532Z"
    },
    "papermill": {
     "duration": 128.880428,
     "end_time": "2021-03-25T15:43:56.428703",
     "exception": false,
     "start_time": "2021-03-25T15:41:47.548275",
     "status": "completed"
    },
    "tags": []
   },
   "outputs": [
    {
     "name": "stdout",
     "output_type": "stream",
     "text": [
      "No. of classes read - 120\n"
     ]
    },
    {
     "name": "stderr",
     "output_type": "stream",
     "text": [
      "100%|██████████| 10222/10222 [02:07<00:00, 80.29it/s]\n"
     ]
    }
   ],
   "source": [
    "# set image size here\n",
    "data_dir = '../input/dog-breed-identification'\n",
    "data_df = pd.read_csv(os.path.join(data_dir, 'labels.csv'))\n",
    "class_names = sorted(data_df['breed'].unique())\n",
    "print(f\"No. of classes read - {len(class_names)}\")\n",
    "time.sleep(1)\n",
    "\n",
    "images_list = sorted(os.listdir(os.path.join(data_dir, 'train')))\n",
    "X = []\n",
    "Y = []\n",
    "i = 0\n",
    "for image in tqdm.tqdm(images_list):\n",
    "    cls_name = data_df[data_df['id'] == image[:-4]].iloc[0,1]\n",
    "    cls_index = int(class_names.index(cls_name)) \n",
    "\n",
    "    # Reading RGB Images\n",
    "    image_path = os.path.join(data_dir, 'train',image)\n",
    "    orig_image = cv2.cvtColor(cv2.imread(image_path), cv2.COLOR_BGR2RGB)\n",
    "    res_image = cv2.resize(orig_image,(img_size, img_size))\n",
    "    X.append(res_image)\n",
    "    Y.append(cls_index)\n",
    "    i+=1"
   ]
  },
  {
   "cell_type": "code",
   "execution_count": 5,
   "metadata": {
    "execution": {
     "iopub.execute_input": "2021-03-25T15:43:57.013076Z",
     "iopub.status.busy": "2021-03-25T15:43:57.011903Z",
     "iopub.status.idle": "2021-03-25T15:43:57.608672Z",
     "shell.execute_reply": "2021-03-25T15:43:57.608233Z"
    },
    "papermill": {
     "duration": 0.891169,
     "end_time": "2021-03-25T15:43:57.608789",
     "exception": false,
     "start_time": "2021-03-25T15:43:56.717620",
     "status": "completed"
    },
    "tags": []
   },
   "outputs": [
    {
     "name": "stdout",
     "output_type": "stream",
     "text": [
      "10222 10222\n",
      "(10222, 224, 224, 3) (10222, 1) (10222, 120)\n"
     ]
    },
    {
     "data": {
      "text/plain": [
       "68"
      ]
     },
     "execution_count": 5,
     "metadata": {},
     "output_type": "execute_result"
    }
   ],
   "source": [
    "# Converting to arrays\n",
    "print(len(X), len(Y))\n",
    "Xarr = np.array(X)\n",
    "Yarr = np.array(Y).reshape(-1,1)\n",
    "\n",
    "# converting labels to one hot\n",
    "Yarr_hot = to_categorical(Y)\n",
    "\n",
    "del(X)\n",
    "print(Xarr.shape, Yarr.shape, Yarr_hot.shape)\n",
    "gc.collect()"
   ]
  },
  {
   "cell_type": "code",
   "execution_count": 6,
   "metadata": {
    "execution": {
     "iopub.execute_input": "2021-03-25T15:43:58.208108Z",
     "iopub.status.busy": "2021-03-25T15:43:58.206741Z",
     "iopub.status.idle": "2021-03-25T15:43:58.625674Z",
     "shell.execute_reply": "2021-03-25T15:43:58.625183Z"
    },
    "papermill": {
     "duration": 0.723724,
     "end_time": "2021-03-25T15:43:58.625808",
     "exception": false,
     "start_time": "2021-03-25T15:43:57.902084",
     "status": "completed"
    },
    "tags": []
   },
   "outputs": [],
   "source": [
    "X_train, X_valid, Y_train, Y_valid = train_test_split(Xarr, Yarr_hot, shuffle=True,  test_size=0.2)"
   ]
  },
  {
   "cell_type": "code",
   "execution_count": 7,
   "metadata": {
    "execution": {
     "iopub.execute_input": "2021-03-25T15:43:59.577860Z",
     "iopub.status.busy": "2021-03-25T15:43:59.577037Z",
     "iopub.status.idle": "2021-03-25T15:43:59.581497Z",
     "shell.execute_reply": "2021-03-25T15:43:59.578528Z"
    },
    "papermill": {
     "duration": 0.507014,
     "end_time": "2021-03-25T15:43:59.581900",
     "exception": false,
     "start_time": "2021-03-25T15:43:59.074886",
     "status": "completed"
    },
    "tags": []
   },
   "outputs": [
    {
     "name": "stdout",
     "output_type": "stream",
     "text": [
      "(8177, 224, 224, 3) (8177, 120)\n",
      "(2045, 224, 224, 3) (2045, 120)\n"
     ]
    }
   ],
   "source": [
    "print(X_train.shape, Y_train.shape)\n",
    "print(X_valid.shape,Y_valid.shape)"
   ]
  },
  {
   "cell_type": "code",
   "execution_count": 8,
   "metadata": {
    "execution": {
     "iopub.execute_input": "2021-03-25T15:44:00.325494Z",
     "iopub.status.busy": "2021-03-25T15:44:00.323711Z",
     "iopub.status.idle": "2021-03-25T15:44:00.326183Z",
     "shell.execute_reply": "2021-03-25T15:44:00.326578Z"
    },
    "papermill": {
     "duration": 0.302088,
     "end_time": "2021-03-25T15:44:00.326720",
     "exception": false,
     "start_time": "2021-03-25T15:44:00.024632",
     "status": "completed"
    },
    "tags": []
   },
   "outputs": [],
   "source": [
    "del Xarr, Yarr_hot, Yarr"
   ]
  },
  {
   "cell_type": "code",
   "execution_count": 9,
   "metadata": {
    "execution": {
     "iopub.execute_input": "2021-03-25T15:44:00.910927Z",
     "iopub.status.busy": "2021-03-25T15:44:00.909789Z",
     "iopub.status.idle": "2021-03-25T15:44:07.830263Z",
     "shell.execute_reply": "2021-03-25T15:44:07.828861Z"
    },
    "papermill": {
     "duration": 7.214523,
     "end_time": "2021-03-25T15:44:07.830399",
     "exception": false,
     "start_time": "2021-03-25T15:44:00.615876",
     "status": "completed"
    },
    "tags": []
   },
   "outputs": [],
   "source": [
    "\n",
    "train_datagen = ImageDataGenerator(rescale=1./255\n",
    "                            #rotation_range=35, #поворот\n",
    "                            #horizontal_flip=True,\n",
    "                            #vertical_flip=True,\n",
    "                            #shear_range=15\n",
    "                                )\n",
    "\n",
    "test_datagen = ImageDataGenerator(rescale=1./255)\n",
    "train_datagen.fit(X_train)\n",
    "test_datagen.fit(X_valid)\n",
    "\n",
    "# Создаем генераторы \n",
    "train_generator =train_datagen.flow(X_train, Y_train, \n",
    "                               batch_size=batch_size)\n",
    "\n",
    "test_generator =test_datagen.flow(X_valid, Y_valid,batch_size=batch_size)\n"
   ]
  },
  {
   "cell_type": "code",
   "execution_count": 10,
   "metadata": {
    "execution": {
     "iopub.execute_input": "2021-03-25T15:44:08.417301Z",
     "iopub.status.busy": "2021-03-25T15:44:08.416007Z",
     "iopub.status.idle": "2021-03-25T15:44:08.430409Z",
     "shell.execute_reply": "2021-03-25T15:44:08.429836Z"
    },
    "papermill": {
     "duration": 0.309249,
     "end_time": "2021-03-25T15:44:08.430558",
     "exception": false,
     "start_time": "2021-03-25T15:44:08.121309",
     "status": "completed"
    },
    "tags": []
   },
   "outputs": [
    {
     "name": "stdout",
     "output_type": "stream",
     "text": [
      "<class 'numpy.ndarray'>\n",
      "(32, 224, 224, 3)\n",
      "(32, 120)\n"
     ]
    }
   ],
   "source": [
    "x,y = next(train_generator)\n",
    "print(type(x))\n",
    "print(x.shape)\n",
    "print(y.shape)\n",
    "del x,y"
   ]
  },
  {
   "cell_type": "markdown",
   "metadata": {
    "papermill": {
     "duration": 0.289645,
     "end_time": "2021-03-25T15:44:09.011594",
     "exception": false,
     "start_time": "2021-03-25T15:44:08.721949",
     "status": "completed"
    },
    "tags": []
   },
   "source": [
    "## Создаем модель нейросети"
   ]
  },
  {
   "cell_type": "code",
   "execution_count": 11,
   "metadata": {
    "execution": {
     "iopub.execute_input": "2021-03-25T15:44:09.616099Z",
     "iopub.status.busy": "2021-03-25T15:44:09.615575Z",
     "iopub.status.idle": "2021-03-25T15:44:15.492215Z",
     "shell.execute_reply": "2021-03-25T15:44:15.491519Z"
    },
    "papermill": {
     "duration": 6.177399,
     "end_time": "2021-03-25T15:44:15.492341",
     "exception": false,
     "start_time": "2021-03-25T15:44:09.314942",
     "status": "completed"
    },
    "tags": []
   },
   "outputs": [
    {
     "name": "stdout",
     "output_type": "stream",
     "text": [
      "Downloading data from https://storage.googleapis.com/tensorflow/keras-applications/inception_v3/inception_v3_weights_tf_dim_ordering_tf_kernels_notop.h5\n",
      "87916544/87910968 [==============================] - 1s 0us/step\n"
     ]
    }
   ],
   "source": [
    "shape=[img_size,img_size,3]\n",
    "pretrained_model = tf.keras.applications.InceptionV3(\n",
    "        weights='imagenet',\n",
    "        include_top=False ,\n",
    "        input_shape=shape\n",
    "    )\n",
    "pretrained_model.trainable = False\n",
    "import tensorflow as tf   \n",
    "model = tf.keras.Sequential([ \n",
    "        pretrained_model,   \n",
    "        tf.keras.layers.GlobalAveragePooling2D(),\n",
    "        #tf.keras.layers.Dense(256, activation='relu'),\n",
    "        #tf.keras.layers.Dropout(0.5),\n",
    "        tf.keras.layers.Dense(120, activation='softmax')\n",
    "    ])"
   ]
  },
  {
   "cell_type": "code",
   "execution_count": 12,
   "metadata": {
    "execution": {
     "iopub.execute_input": "2021-03-25T15:44:16.150778Z",
     "iopub.status.busy": "2021-03-25T15:44:16.149992Z",
     "iopub.status.idle": "2021-03-25T15:44:16.183594Z",
     "shell.execute_reply": "2021-03-25T15:44:16.183947Z"
    },
    "papermill": {
     "duration": 0.385731,
     "end_time": "2021-03-25T15:44:16.184085",
     "exception": false,
     "start_time": "2021-03-25T15:44:15.798354",
     "status": "completed"
    },
    "tags": []
   },
   "outputs": [
    {
     "name": "stdout",
     "output_type": "stream",
     "text": [
      "Model: \"sequential\"\n",
      "_________________________________________________________________\n",
      "Layer (type)                 Output Shape              Param #   \n",
      "=================================================================\n",
      "inception_v3 (Functional)    (None, 5, 5, 2048)        21802784  \n",
      "_________________________________________________________________\n",
      "global_average_pooling2d (Gl (None, 2048)              0         \n",
      "_________________________________________________________________\n",
      "dense (Dense)                (None, 120)               245880    \n",
      "=================================================================\n",
      "Total params: 22,048,664\n",
      "Trainable params: 245,880\n",
      "Non-trainable params: 21,802,784\n",
      "_________________________________________________________________\n"
     ]
    }
   ],
   "source": [
    "#opt = tf.keras.optimizers.Adam(learning_rate=0.001)\n",
    "opt=tf.keras.optimizers.SGD(lr=1e-3, momentum=0.9)\n",
    "model.compile(optimizer = opt ,\n",
    "              loss=\"categorical_crossentropy\",\n",
    "              metrics=[\"accuracy\"])\n",
    "model.summary()"
   ]
  },
  {
   "cell_type": "code",
   "execution_count": 13,
   "metadata": {
    "execution": {
     "iopub.execute_input": "2021-03-25T15:44:16.792635Z",
     "iopub.status.busy": "2021-03-25T15:44:16.792025Z",
     "iopub.status.idle": "2021-03-25T15:44:16.795765Z",
     "shell.execute_reply": "2021-03-25T15:44:16.796138Z"
    },
    "papermill": {
     "duration": 0.308559,
     "end_time": "2021-03-25T15:44:16.796303",
     "exception": false,
     "start_time": "2021-03-25T15:44:16.487744",
     "status": "completed"
    },
    "tags": []
   },
   "outputs": [],
   "source": [
    "from keras.callbacks import ModelCheckpoint, EarlyStopping\n",
    "#reduce = tf.keras.callbacks.ReduceLROnPlateau( monitor='val_loss',factor=0.2,patience=5, min_lr=0.001 )\n",
    "\n",
    "early = EarlyStopping( patience=2,\n",
    "                                          min_delta=0.001,\n",
    "                                          restore_best_weights=True)\n",
    "checkpoint_callback = ModelCheckpoint('model_best.hdf5',\n",
    "                                      monitor='val_categorical_accuracy', \n",
    "                                      #save_best_only=True\n",
    "                                    mode='auto'\n",
    "                                     )"
   ]
  },
  {
   "cell_type": "markdown",
   "metadata": {
    "papermill": {
     "duration": 0.301027,
     "end_time": "2021-03-25T15:44:17.395398",
     "exception": false,
     "start_time": "2021-03-25T15:44:17.094371",
     "status": "completed"
    },
    "tags": []
   },
   "source": [
    "## Обучаем нейросеть"
   ]
  },
  {
   "cell_type": "code",
   "execution_count": 14,
   "metadata": {
    "execution": {
     "iopub.execute_input": "2021-03-25T15:44:17.997715Z",
     "iopub.status.busy": "2021-03-25T15:44:17.997104Z",
     "iopub.status.idle": "2021-03-25T15:48:17.523037Z",
     "shell.execute_reply": "2021-03-25T15:48:17.523506Z"
    },
    "papermill": {
     "duration": 239.831041,
     "end_time": "2021-03-25T15:48:17.523687",
     "exception": false,
     "start_time": "2021-03-25T15:44:17.692646",
     "status": "completed"
    },
    "tags": []
   },
   "outputs": [
    {
     "name": "stdout",
     "output_type": "stream",
     "text": [
      "Epoch 1/25\n",
      "255/255 [==============================] - 26s 74ms/step - loss: 3.8411 - accuracy: 0.2483 - val_loss: 1.3364 - val_accuracy: 0.7341\n",
      "Epoch 2/25\n",
      "255/255 [==============================] - 17s 66ms/step - loss: 1.0876 - accuracy: 0.7751 - val_loss: 0.8618 - val_accuracy: 0.7877\n",
      "Epoch 3/25\n",
      "255/255 [==============================] - 17s 67ms/step - loss: 0.7327 - accuracy: 0.8221 - val_loss: 0.7545 - val_accuracy: 0.7996\n",
      "Epoch 4/25\n",
      "255/255 [==============================] - 17s 66ms/step - loss: 0.6258 - accuracy: 0.8369 - val_loss: 0.7052 - val_accuracy: 0.7956\n",
      "Epoch 5/25\n",
      "255/255 [==============================] - 17s 67ms/step - loss: 0.5711 - accuracy: 0.8444 - val_loss: 0.6828 - val_accuracy: 0.8026\n",
      "Epoch 6/25\n",
      "255/255 [==============================] - 17s 67ms/step - loss: 0.5266 - accuracy: 0.8553 - val_loss: 0.6672 - val_accuracy: 0.8046\n",
      "Epoch 7/25\n",
      "255/255 [==============================] - 17s 67ms/step - loss: 0.4795 - accuracy: 0.8752 - val_loss: 0.6605 - val_accuracy: 0.8125\n",
      "Epoch 8/25\n",
      "255/255 [==============================] - 17s 67ms/step - loss: 0.4534 - accuracy: 0.8712 - val_loss: 0.6500 - val_accuracy: 0.8065\n",
      "Epoch 9/25\n",
      "255/255 [==============================] - 17s 67ms/step - loss: 0.4237 - accuracy: 0.8788 - val_loss: 0.6455 - val_accuracy: 0.8026\n",
      "Epoch 10/25\n",
      "255/255 [==============================] - 17s 67ms/step - loss: 0.4039 - accuracy: 0.8866 - val_loss: 0.6381 - val_accuracy: 0.8155\n",
      "Epoch 11/25\n",
      "255/255 [==============================] - 17s 67ms/step - loss: 0.3885 - accuracy: 0.8947 - val_loss: 0.6340 - val_accuracy: 0.8100\n",
      "Epoch 12/25\n",
      "255/255 [==============================] - 17s 66ms/step - loss: 0.3633 - accuracy: 0.8994 - val_loss: 0.6360 - val_accuracy: 0.8095\n",
      "Epoch 13/25\n",
      "255/255 [==============================] - 17s 67ms/step - loss: 0.3422 - accuracy: 0.9052 - val_loss: 0.6400 - val_accuracy: 0.8125\n"
     ]
    }
   ],
   "source": [
    "history = model.fit(train_generator,\n",
    "                    steps_per_epoch=train_generator.n //train_generator.batch_size,\n",
    "                    validation_data=test_generator,\n",
    "                    validation_steps=test_generator.n //test_generator.batch_size,\n",
    "                    epochs=25,\n",
    "                    callbacks=[early,checkpoint_callback]\n",
    "                   )\n"
   ]
  },
  {
   "cell_type": "code",
   "execution_count": 15,
   "metadata": {
    "execution": {
     "iopub.execute_input": "2021-03-25T15:48:19.779746Z",
     "iopub.status.busy": "2021-03-25T15:48:19.778737Z",
     "iopub.status.idle": "2021-03-25T15:48:19.784667Z",
     "shell.execute_reply": "2021-03-25T15:48:19.784258Z"
    },
    "papermill": {
     "duration": 1.221309,
     "end_time": "2021-03-25T15:48:19.784789",
     "exception": false,
     "start_time": "2021-03-25T15:48:18.563480",
     "status": "completed"
    },
    "tags": []
   },
   "outputs": [
    {
     "data": {
      "text/plain": [
       "92"
      ]
     },
     "execution_count": 15,
     "metadata": {},
     "output_type": "execute_result"
    }
   ],
   "source": [
    "del X_train, X_valid, Y_train, Y_valid\n",
    "gc.collect()"
   ]
  },
  {
   "cell_type": "markdown",
   "metadata": {
    "papermill": {
     "duration": 1.046622,
     "end_time": "2021-03-25T15:48:21.914426",
     "exception": false,
     "start_time": "2021-03-25T15:48:20.867804",
     "status": "completed"
    },
    "tags": []
   },
   "source": [
    "# Выберем лучшую модель и получим результаты для тестов"
   ]
  },
  {
   "cell_type": "code",
   "execution_count": 16,
   "metadata": {
    "execution": {
     "iopub.execute_input": "2021-03-25T15:48:24.302743Z",
     "iopub.status.busy": "2021-03-25T15:48:24.302177Z",
     "iopub.status.idle": "2021-03-25T15:49:59.484998Z",
     "shell.execute_reply": "2021-03-25T15:49:59.485627Z"
    },
    "papermill": {
     "duration": 96.323195,
     "end_time": "2021-03-25T15:49:59.485828",
     "exception": false,
     "start_time": "2021-03-25T15:48:23.162633",
     "status": "completed"
    },
    "tags": []
   },
   "outputs": [
    {
     "name": "stderr",
     "output_type": "stream",
     "text": [
      "100%|██████████| 10357/10357 [01:32<00:00, 111.65it/s]\n"
     ]
    },
    {
     "name": "stdout",
     "output_type": "stream",
     "text": [
      "(10357, 224, 224, 3)\n"
     ]
    }
   ],
   "source": [
    "images_list = sorted(os.listdir(os.path.join(data_dir, 'test')))\n",
    "x_test=[]\n",
    "for image in tqdm.tqdm(images_list):    \n",
    "    image_path = os.path.join(data_dir, 'test',image)\n",
    "    orig_image = cv2.cvtColor(cv2.imread(image_path), cv2.COLOR_BGR2RGB)\n",
    "    res_image = cv2.resize(orig_image,(img_size, img_size))\n",
    "    x_test.append(res_image)\n",
    "x_test=np.array(x_test)\n",
    "print(x_test.shape)"
   ]
  },
  {
   "cell_type": "code",
   "execution_count": 17,
   "metadata": {
    "execution": {
     "iopub.execute_input": "2021-03-25T15:50:02.235822Z",
     "iopub.status.busy": "2021-03-25T15:50:02.235058Z",
     "iopub.status.idle": "2021-03-25T15:50:04.535579Z",
     "shell.execute_reply": "2021-03-25T15:50:04.535987Z"
    },
    "papermill": {
     "duration": 3.786267,
     "end_time": "2021-03-25T15:50:04.536147",
     "exception": false,
     "start_time": "2021-03-25T15:50:00.749880",
     "status": "completed"
    },
    "tags": []
   },
   "outputs": [],
   "source": [
    "from tensorflow.keras.models import load_model\n",
    "model=load_model(\"model_best.hdf5\")"
   ]
  },
  {
   "cell_type": "code",
   "execution_count": 18,
   "metadata": {
    "execution": {
     "iopub.execute_input": "2021-03-25T15:50:07.516558Z",
     "iopub.status.busy": "2021-03-25T15:50:07.515102Z",
     "iopub.status.idle": "2021-03-25T15:50:23.154534Z",
     "shell.execute_reply": "2021-03-25T15:50:23.154003Z"
    },
    "papermill": {
     "duration": 17.346954,
     "end_time": "2021-03-25T15:50:23.154666",
     "exception": false,
     "start_time": "2021-03-25T15:50:05.807712",
     "status": "completed"
    },
    "tags": []
   },
   "outputs": [],
   "source": [
    "preds = model.predict(x_test)"
   ]
  },
  {
   "cell_type": "code",
   "execution_count": 19,
   "metadata": {
    "execution": {
     "iopub.execute_input": "2021-03-25T15:50:25.949441Z",
     "iopub.status.busy": "2021-03-25T15:50:25.948897Z",
     "iopub.status.idle": "2021-03-25T15:50:26.503959Z",
     "shell.execute_reply": "2021-03-25T15:50:26.503420Z"
    },
    "papermill": {
     "duration": 1.820292,
     "end_time": "2021-03-25T15:50:26.504095",
     "exception": false,
     "start_time": "2021-03-25T15:50:24.683803",
     "status": "completed"
    },
    "tags": []
   },
   "outputs": [],
   "source": [
    "labels_csv='../input/dog-breed-identification/labels.csv'\n",
    "sample_submission_csv='../input/dog-breed-identification/sample_submission.csv'\n",
    "df_train = pd.read_csv(labels_csv)\n",
    "df_test = pd.read_csv(sample_submission_csv)\n",
    "labels = df_train['breed']\n",
    "one_hot = pd.get_dummies(labels, sparse = True)\n",
    "one_hot_labels = np.asarray(one_hot)"
   ]
  },
  {
   "cell_type": "code",
   "execution_count": 20,
   "metadata": {
    "execution": {
     "iopub.execute_input": "2021-03-25T15:50:29.004991Z",
     "iopub.status.busy": "2021-03-25T15:50:29.004402Z",
     "iopub.status.idle": "2021-03-25T15:50:29.023776Z",
     "shell.execute_reply": "2021-03-25T15:50:29.024285Z"
    },
    "papermill": {
     "duration": 1.283286,
     "end_time": "2021-03-25T15:50:29.024422",
     "exception": false,
     "start_time": "2021-03-25T15:50:27.741136",
     "status": "completed"
    },
    "tags": []
   },
   "outputs": [
    {
     "data": {
      "text/html": [
       "<div>\n",
       "<style scoped>\n",
       "    .dataframe tbody tr th:only-of-type {\n",
       "        vertical-align: middle;\n",
       "    }\n",
       "\n",
       "    .dataframe tbody tr th {\n",
       "        vertical-align: top;\n",
       "    }\n",
       "\n",
       "    .dataframe thead th {\n",
       "        text-align: right;\n",
       "    }\n",
       "</style>\n",
       "<table border=\"1\" class=\"dataframe\">\n",
       "  <thead>\n",
       "    <tr style=\"text-align: right;\">\n",
       "      <th></th>\n",
       "      <th>id</th>\n",
       "      <th>affenpinscher</th>\n",
       "      <th>afghan_hound</th>\n",
       "      <th>african_hunting_dog</th>\n",
       "      <th>airedale</th>\n",
       "      <th>american_staffordshire_terrier</th>\n",
       "      <th>appenzeller</th>\n",
       "      <th>australian_terrier</th>\n",
       "      <th>basenji</th>\n",
       "      <th>basset</th>\n",
       "      <th>...</th>\n",
       "      <th>toy_poodle</th>\n",
       "      <th>toy_terrier</th>\n",
       "      <th>vizsla</th>\n",
       "      <th>walker_hound</th>\n",
       "      <th>weimaraner</th>\n",
       "      <th>welsh_springer_spaniel</th>\n",
       "      <th>west_highland_white_terrier</th>\n",
       "      <th>whippet</th>\n",
       "      <th>wire-haired_fox_terrier</th>\n",
       "      <th>yorkshire_terrier</th>\n",
       "    </tr>\n",
       "  </thead>\n",
       "  <tbody>\n",
       "    <tr>\n",
       "      <th>0</th>\n",
       "      <td>000621fb3cbb32d8935728e48679680e</td>\n",
       "      <td>1.118144e-32</td>\n",
       "      <td>9.488521e-25</td>\n",
       "      <td>2.614070e-20</td>\n",
       "      <td>1.811031e-35</td>\n",
       "      <td>0.000000e+00</td>\n",
       "      <td>2.709523e-30</td>\n",
       "      <td>1.321051e-37</td>\n",
       "      <td>0.000000e+00</td>\n",
       "      <td>0.000000e+00</td>\n",
       "      <td>...</td>\n",
       "      <td>0.000000e+00</td>\n",
       "      <td>5.390414e-18</td>\n",
       "      <td>2.737750e-24</td>\n",
       "      <td>0.000000e+00</td>\n",
       "      <td>0.000000e+00</td>\n",
       "      <td>0.000000e+00</td>\n",
       "      <td>7.383261e-35</td>\n",
       "      <td>0.000000e+00</td>\n",
       "      <td>3.018682e-22</td>\n",
       "      <td>1.135823e-30</td>\n",
       "    </tr>\n",
       "    <tr>\n",
       "      <th>1</th>\n",
       "      <td>00102ee9d8eb90812350685311fe5890</td>\n",
       "      <td>1.144981e-36</td>\n",
       "      <td>2.102158e-25</td>\n",
       "      <td>2.541121e-23</td>\n",
       "      <td>2.956194e-33</td>\n",
       "      <td>0.000000e+00</td>\n",
       "      <td>9.614055e-29</td>\n",
       "      <td>8.176366e-34</td>\n",
       "      <td>0.000000e+00</td>\n",
       "      <td>0.000000e+00</td>\n",
       "      <td>...</td>\n",
       "      <td>0.000000e+00</td>\n",
       "      <td>5.058703e-13</td>\n",
       "      <td>4.067740e-15</td>\n",
       "      <td>0.000000e+00</td>\n",
       "      <td>0.000000e+00</td>\n",
       "      <td>0.000000e+00</td>\n",
       "      <td>1.213059e-23</td>\n",
       "      <td>0.000000e+00</td>\n",
       "      <td>1.551857e-16</td>\n",
       "      <td>2.724693e-26</td>\n",
       "    </tr>\n",
       "    <tr>\n",
       "      <th>2</th>\n",
       "      <td>0012a730dfa437f5f3613fb75efcd4ce</td>\n",
       "      <td>8.330945e-24</td>\n",
       "      <td>2.658752e-16</td>\n",
       "      <td>4.388193e-12</td>\n",
       "      <td>1.435298e-21</td>\n",
       "      <td>4.763792e-31</td>\n",
       "      <td>3.638812e-17</td>\n",
       "      <td>5.085880e-27</td>\n",
       "      <td>1.170320e-23</td>\n",
       "      <td>2.926279e-31</td>\n",
       "      <td>...</td>\n",
       "      <td>4.522573e-29</td>\n",
       "      <td>2.645058e-10</td>\n",
       "      <td>2.184552e-14</td>\n",
       "      <td>2.448152e-24</td>\n",
       "      <td>6.063078e-22</td>\n",
       "      <td>1.958038e-35</td>\n",
       "      <td>5.918059e-24</td>\n",
       "      <td>2.327052e-23</td>\n",
       "      <td>1.781344e-14</td>\n",
       "      <td>7.726285e-18</td>\n",
       "    </tr>\n",
       "    <tr>\n",
       "      <th>3</th>\n",
       "      <td>001510bc8570bbeee98c8d80c8a95ec1</td>\n",
       "      <td>5.511191e-33</td>\n",
       "      <td>2.427594e-23</td>\n",
       "      <td>4.110374e-19</td>\n",
       "      <td>5.694935e-23</td>\n",
       "      <td>0.000000e+00</td>\n",
       "      <td>7.786177e-19</td>\n",
       "      <td>1.156610e-35</td>\n",
       "      <td>1.843087e-22</td>\n",
       "      <td>1.735890e-30</td>\n",
       "      <td>...</td>\n",
       "      <td>6.355688e-35</td>\n",
       "      <td>5.284740e-17</td>\n",
       "      <td>9.770047e-10</td>\n",
       "      <td>0.000000e+00</td>\n",
       "      <td>5.376405e-25</td>\n",
       "      <td>3.767329e-36</td>\n",
       "      <td>2.974929e-23</td>\n",
       "      <td>2.520450e-30</td>\n",
       "      <td>7.200435e-18</td>\n",
       "      <td>2.458639e-22</td>\n",
       "    </tr>\n",
       "    <tr>\n",
       "      <th>4</th>\n",
       "      <td>001a5f3114548acdefa3d4da05474c2e</td>\n",
       "      <td>1.372286e-30</td>\n",
       "      <td>6.416234e-18</td>\n",
       "      <td>1.146366e-07</td>\n",
       "      <td>3.688759e-14</td>\n",
       "      <td>0.000000e+00</td>\n",
       "      <td>1.160159e-19</td>\n",
       "      <td>2.036730e-22</td>\n",
       "      <td>4.646791e-25</td>\n",
       "      <td>3.321902e-24</td>\n",
       "      <td>...</td>\n",
       "      <td>3.362306e-30</td>\n",
       "      <td>2.365591e-04</td>\n",
       "      <td>2.947209e-13</td>\n",
       "      <td>7.280829e-29</td>\n",
       "      <td>1.488762e-23</td>\n",
       "      <td>3.512221e-36</td>\n",
       "      <td>1.415417e-20</td>\n",
       "      <td>1.174890e-22</td>\n",
       "      <td>1.509163e-16</td>\n",
       "      <td>7.323585e-11</td>\n",
       "    </tr>\n",
       "  </tbody>\n",
       "</table>\n",
       "<p>5 rows × 121 columns</p>\n",
       "</div>"
      ],
      "text/plain": [
       "                                 id  affenpinscher  afghan_hound  \\\n",
       "0  000621fb3cbb32d8935728e48679680e   1.118144e-32  9.488521e-25   \n",
       "1  00102ee9d8eb90812350685311fe5890   1.144981e-36  2.102158e-25   \n",
       "2  0012a730dfa437f5f3613fb75efcd4ce   8.330945e-24  2.658752e-16   \n",
       "3  001510bc8570bbeee98c8d80c8a95ec1   5.511191e-33  2.427594e-23   \n",
       "4  001a5f3114548acdefa3d4da05474c2e   1.372286e-30  6.416234e-18   \n",
       "\n",
       "   african_hunting_dog      airedale  american_staffordshire_terrier  \\\n",
       "0         2.614070e-20  1.811031e-35                    0.000000e+00   \n",
       "1         2.541121e-23  2.956194e-33                    0.000000e+00   \n",
       "2         4.388193e-12  1.435298e-21                    4.763792e-31   \n",
       "3         4.110374e-19  5.694935e-23                    0.000000e+00   \n",
       "4         1.146366e-07  3.688759e-14                    0.000000e+00   \n",
       "\n",
       "    appenzeller  australian_terrier       basenji        basset  ...  \\\n",
       "0  2.709523e-30        1.321051e-37  0.000000e+00  0.000000e+00  ...   \n",
       "1  9.614055e-29        8.176366e-34  0.000000e+00  0.000000e+00  ...   \n",
       "2  3.638812e-17        5.085880e-27  1.170320e-23  2.926279e-31  ...   \n",
       "3  7.786177e-19        1.156610e-35  1.843087e-22  1.735890e-30  ...   \n",
       "4  1.160159e-19        2.036730e-22  4.646791e-25  3.321902e-24  ...   \n",
       "\n",
       "     toy_poodle   toy_terrier        vizsla  walker_hound    weimaraner  \\\n",
       "0  0.000000e+00  5.390414e-18  2.737750e-24  0.000000e+00  0.000000e+00   \n",
       "1  0.000000e+00  5.058703e-13  4.067740e-15  0.000000e+00  0.000000e+00   \n",
       "2  4.522573e-29  2.645058e-10  2.184552e-14  2.448152e-24  6.063078e-22   \n",
       "3  6.355688e-35  5.284740e-17  9.770047e-10  0.000000e+00  5.376405e-25   \n",
       "4  3.362306e-30  2.365591e-04  2.947209e-13  7.280829e-29  1.488762e-23   \n",
       "\n",
       "   welsh_springer_spaniel  west_highland_white_terrier       whippet  \\\n",
       "0            0.000000e+00                 7.383261e-35  0.000000e+00   \n",
       "1            0.000000e+00                 1.213059e-23  0.000000e+00   \n",
       "2            1.958038e-35                 5.918059e-24  2.327052e-23   \n",
       "3            3.767329e-36                 2.974929e-23  2.520450e-30   \n",
       "4            3.512221e-36                 1.415417e-20  1.174890e-22   \n",
       "\n",
       "   wire-haired_fox_terrier  yorkshire_terrier  \n",
       "0             3.018682e-22       1.135823e-30  \n",
       "1             1.551857e-16       2.724693e-26  \n",
       "2             1.781344e-14       7.726285e-18  \n",
       "3             7.200435e-18       2.458639e-22  \n",
       "4             1.509163e-16       7.323585e-11  \n",
       "\n",
       "[5 rows x 121 columns]"
      ]
     },
     "execution_count": 20,
     "metadata": {},
     "output_type": "execute_result"
    }
   ],
   "source": [
    "sub = pd.DataFrame(preds)\n",
    "col_names = one_hot.columns.values\n",
    "sub.columns = col_names\n",
    "sub.insert(0, 'id', df_test['id'])\n",
    "sub.head(5)"
   ]
  },
  {
   "cell_type": "code",
   "execution_count": 21,
   "metadata": {
    "execution": {
     "iopub.execute_input": "2021-03-25T15:50:31.545941Z",
     "iopub.status.busy": "2021-03-25T15:50:31.545177Z",
     "iopub.status.idle": "2021-03-25T15:50:33.639434Z",
     "shell.execute_reply": "2021-03-25T15:50:33.638397Z"
    },
    "papermill": {
     "duration": 3.342007,
     "end_time": "2021-03-25T15:50:33.639573",
     "exception": false,
     "start_time": "2021-03-25T15:50:30.297566",
     "status": "completed"
    },
    "tags": []
   },
   "outputs": [],
   "source": [
    "sub.to_csv(\"output_rmsprop_aug.csv\", index=False)"
   ]
  }
 ],
 "metadata": {
  "kernelspec": {
   "display_name": "Python 3",
   "language": "python",
   "name": "python3"
  },
  "language_info": {
   "codemirror_mode": {
    "name": "ipython",
    "version": 3
   },
   "file_extension": ".py",
   "mimetype": "text/x-python",
   "name": "python",
   "nbconvert_exporter": "python",
   "pygments_lexer": "ipython3",
   "version": "3.7.9"
  },
  "papermill": {
   "default_parameters": {},
   "duration": 542.230909,
   "end_time": "2021-03-25T15:50:38.660019",
   "environment_variables": {},
   "exception": null,
   "input_path": "__notebook__.ipynb",
   "output_path": "__notebook__.ipynb",
   "parameters": {},
   "start_time": "2021-03-25T15:41:36.429110",
   "version": "2.2.2"
  }
 },
 "nbformat": 4,
 "nbformat_minor": 4
}
