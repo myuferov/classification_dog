{
 "cells": [
  {
   "cell_type": "code",
   "execution_count": 1,
   "metadata": {
    "execution": {
     "iopub.execute_input": "2021-03-25T14:23:13.139934Z",
     "iopub.status.busy": "2021-03-25T14:23:13.139209Z",
     "iopub.status.idle": "2021-03-25T14:23:13.142198Z",
     "shell.execute_reply": "2021-03-25T14:23:13.141756Z"
    },
    "papermill": {
     "duration": 0.025485,
     "end_time": "2021-03-25T14:23:13.142324",
     "exception": false,
     "start_time": "2021-03-25T14:23:13.116839",
     "status": "completed"
    },
    "tags": []
   },
   "outputs": [],
   "source": [
    "# Пути к файлам\n",
    "labels_csv='../input/dog-breed-identification/labels.csv'\n",
    "sample_submission_csv='../input/dog-breed-identification/sample_submission.csv'\n",
    "\n",
    "# Пути до картинок\n",
    "jpg_train='../input/dog-breed-identification/train/{}.jpg'  \n",
    "jpg_test='../input/dog-breed-identification/test/{}.jpg'\n",
    "\n",
    "# Настройки нейросети\n",
    "img_size = 224 # Размер изображения\n",
    "num_class = 120 # Кол-во классов\n",
    "batch_size = 32\n",
    "Epochs = 64\n",
    "\n",
    "# Настройки нейросети\n",
    "#img_size = 224 # Размер изображения"
   ]
  },
  {
   "cell_type": "markdown",
   "metadata": {
    "papermill": {
     "duration": 0.016344,
     "end_time": "2021-03-25T14:23:13.175241",
     "exception": false,
     "start_time": "2021-03-25T14:23:13.158897",
     "status": "completed"
    },
    "tags": []
   },
   "source": [
    "## Загружаем библиотеки"
   ]
  },
  {
   "cell_type": "code",
   "execution_count": 2,
   "metadata": {
    "_cell_guid": "79c7e3d0-c299-4dcb-8224-4455121ee9b0",
    "_uuid": "d629ff2d2480ee46fbb7e2d37f6b5fab8052498a",
    "execution": {
     "iopub.execute_input": "2021-03-25T14:23:13.220810Z",
     "iopub.status.busy": "2021-03-25T14:23:13.220268Z",
     "iopub.status.idle": "2021-03-25T14:23:20.351492Z",
     "shell.execute_reply": "2021-03-25T14:23:20.350507Z"
    },
    "papermill": {
     "duration": 7.159903,
     "end_time": "2021-03-25T14:23:20.351605",
     "exception": false,
     "start_time": "2021-03-25T14:23:13.191702",
     "status": "completed"
    },
    "tags": []
   },
   "outputs": [],
   "source": [
    "import numpy as np\n",
    "import pandas as pd\n",
    "%matplotlib inline\n",
    "import matplotlib.pyplot as plt\n",
    "\n",
    "import tensorflow.keras as keras\n",
    "from keras import regularizers\n",
    "from keras.models import Model\n",
    "from keras.models import Sequential\n",
    "from keras.layers.convolutional import Conv2D, MaxPooling2D, ZeroPadding2D\n",
    "from keras.layers import Dense, Dropout, Flatten\n",
    "from tensorflow.keras.metrics import categorical_accuracy, categorical_crossentropy\n",
    "import os\n",
    "import cv2, random, time, shutil, csv\n",
    "from sklearn import preprocessing\n",
    "from sklearn.model_selection import train_test_split\n",
    "from keras.preprocessing.image import load_img\n",
    "from keras.preprocessing.image import img_to_array\n",
    "from keras.preprocessing.image import ImageDataGenerator\n",
    "import time\n",
    "from keras.utils import to_categorical\n",
    "import gc\n",
    "import tqdm"
   ]
  },
  {
   "cell_type": "code",
   "execution_count": 3,
   "metadata": {
    "execution": {
     "iopub.execute_input": "2021-03-25T14:23:20.394312Z",
     "iopub.status.busy": "2021-03-25T14:23:20.393647Z",
     "iopub.status.idle": "2021-03-25T14:23:20.396608Z",
     "shell.execute_reply": "2021-03-25T14:23:20.396014Z"
    },
    "papermill": {
     "duration": 0.026872,
     "end_time": "2021-03-25T14:23:20.396712",
     "exception": false,
     "start_time": "2021-03-25T14:23:20.369840",
     "status": "completed"
    },
    "tags": []
   },
   "outputs": [],
   "source": [
    "def gen_graph(history, title):\n",
    "    plt.plot(history.history['loss'])\n",
    "    plt.plot(history.history['val_loss'])\n",
    "    plt.title('crossentropy ' + title)\n",
    "    plt.ylabel('crossentropy')\n",
    "    plt.xlabel('Epoch')\n",
    "    plt.legend(['train', 'validation'], loc='upper left')\n",
    "    plt.show()\n",
    "    \n",
    "    plt.plot(history.history['categorical_accuracy'])\n",
    "    plt.plot(history.history['val_categorical_accuracy'])\n",
    "    plt.title('categorical_accuracy ' + title)\n",
    "    plt.ylabel('categorical_accuracy')\n",
    "    plt.xlabel('Epoch')\n",
    "    plt.legend(['train', 'validation'], loc='upper left')\n",
    "    plt.show()"
   ]
  },
  {
   "cell_type": "markdown",
   "metadata": {
    "papermill": {
     "duration": 0.016159,
     "end_time": "2021-03-25T14:23:20.429372",
     "exception": false,
     "start_time": "2021-03-25T14:23:20.413213",
     "status": "completed"
    },
    "tags": []
   },
   "source": [
    "## Считываем изображения и переводим в массив"
   ]
  },
  {
   "cell_type": "code",
   "execution_count": 4,
   "metadata": {
    "execution": {
     "iopub.execute_input": "2021-03-25T14:23:20.475798Z",
     "iopub.status.busy": "2021-03-25T14:23:20.475236Z",
     "iopub.status.idle": "2021-03-25T14:26:27.102887Z",
     "shell.execute_reply": "2021-03-25T14:26:27.102014Z"
    },
    "papermill": {
     "duration": 186.657055,
     "end_time": "2021-03-25T14:26:27.102995",
     "exception": false,
     "start_time": "2021-03-25T14:23:20.445940",
     "status": "completed"
    },
    "tags": []
   },
   "outputs": [
    {
     "name": "stdout",
     "output_type": "stream",
     "text": [
      "No. of classes read - 120\n"
     ]
    },
    {
     "name": "stderr",
     "output_type": "stream",
     "text": [
      "100%|██████████| 10222/10222 [03:04<00:00, 55.29it/s]\n"
     ]
    }
   ],
   "source": [
    "# set image size here\n",
    "data_dir = '../input/dog-breed-identification'\n",
    "data_df = pd.read_csv(os.path.join(data_dir, 'labels.csv'))\n",
    "class_names = sorted(data_df['breed'].unique())\n",
    "print(f\"No. of classes read - {len(class_names)}\")\n",
    "time.sleep(1)\n",
    "\n",
    "images_list = sorted(os.listdir(os.path.join(data_dir, 'train')))\n",
    "X = []\n",
    "Y = []\n",
    "i = 0\n",
    "for image in tqdm.tqdm(images_list):\n",
    "    cls_name = data_df[data_df['id'] == image[:-4]].iloc[0,1]\n",
    "    cls_index = int(class_names.index(cls_name)) \n",
    "\n",
    "    # Reading RGB Images\n",
    "    image_path = os.path.join(data_dir, 'train',image)\n",
    "    orig_image = cv2.cvtColor(cv2.imread(image_path), cv2.COLOR_BGR2RGB)\n",
    "    res_image = cv2.resize(orig_image,(img_size, img_size))\n",
    "    X.append(res_image)\n",
    "    Y.append(cls_index)\n",
    "    i+=1"
   ]
  },
  {
   "cell_type": "code",
   "execution_count": 5,
   "metadata": {
    "execution": {
     "iopub.execute_input": "2021-03-25T14:26:28.003778Z",
     "iopub.status.busy": "2021-03-25T14:26:28.002518Z",
     "iopub.status.idle": "2021-03-25T14:26:28.597925Z",
     "shell.execute_reply": "2021-03-25T14:26:28.598511Z"
    },
    "papermill": {
     "duration": 1.049695,
     "end_time": "2021-03-25T14:26:28.598649",
     "exception": false,
     "start_time": "2021-03-25T14:26:27.548954",
     "status": "completed"
    },
    "tags": []
   },
   "outputs": [
    {
     "name": "stdout",
     "output_type": "stream",
     "text": [
      "10222 10222\n",
      "(10222, 224, 224, 3) (10222, 1) (10222, 120)\n"
     ]
    },
    {
     "data": {
      "text/plain": [
       "20"
      ]
     },
     "execution_count": 5,
     "metadata": {},
     "output_type": "execute_result"
    }
   ],
   "source": [
    "# Converting to arrays\n",
    "print(len(X), len(Y))\n",
    "Xarr = np.array(X)\n",
    "Yarr = np.array(Y).reshape(-1,1)\n",
    "\n",
    "# converting labels to one hot\n",
    "Yarr_hot = to_categorical(Y)\n",
    "\n",
    "del(X)\n",
    "print(Xarr.shape, Yarr.shape, Yarr_hot.shape)\n",
    "gc.collect()"
   ]
  },
  {
   "cell_type": "markdown",
   "metadata": {
    "papermill": {
     "duration": 0.482497,
     "end_time": "2021-03-25T14:26:29.530240",
     "exception": false,
     "start_time": "2021-03-25T14:26:29.047743",
     "status": "completed"
    },
    "tags": []
   },
   "source": [
    "## Формируем датасет для обучения"
   ]
  },
  {
   "cell_type": "code",
   "execution_count": 6,
   "metadata": {
    "execution": {
     "iopub.execute_input": "2021-03-25T14:26:30.451415Z",
     "iopub.status.busy": "2021-03-25T14:26:30.450044Z",
     "iopub.status.idle": "2021-03-25T14:26:30.899764Z",
     "shell.execute_reply": "2021-03-25T14:26:30.899197Z"
    },
    "papermill": {
     "duration": 0.922716,
     "end_time": "2021-03-25T14:26:30.899988",
     "exception": false,
     "start_time": "2021-03-25T14:26:29.977272",
     "status": "completed"
    },
    "tags": []
   },
   "outputs": [],
   "source": [
    "X_train, X_valid, Y_train, Y_valid = train_test_split(Xarr, Yarr_hot, shuffle=True,  test_size=0.2)"
   ]
  },
  {
   "cell_type": "code",
   "execution_count": 7,
   "metadata": {
    "execution": {
     "iopub.execute_input": "2021-03-25T14:26:31.823807Z",
     "iopub.status.busy": "2021-03-25T14:26:31.823117Z",
     "iopub.status.idle": "2021-03-25T14:26:31.827218Z",
     "shell.execute_reply": "2021-03-25T14:26:31.826728Z"
    },
    "papermill": {
     "duration": 0.467724,
     "end_time": "2021-03-25T14:26:31.827310",
     "exception": false,
     "start_time": "2021-03-25T14:26:31.359586",
     "status": "completed"
    },
    "tags": []
   },
   "outputs": [],
   "source": [
    "del Xarr, Yarr_hot, Yarr"
   ]
  },
  {
   "cell_type": "code",
   "execution_count": 8,
   "metadata": {
    "execution": {
     "iopub.execute_input": "2021-03-25T14:26:32.730565Z",
     "iopub.status.busy": "2021-03-25T14:26:32.729034Z",
     "iopub.status.idle": "2021-03-25T14:26:32.732933Z",
     "shell.execute_reply": "2021-03-25T14:26:32.732274Z"
    },
    "papermill": {
     "duration": 0.459461,
     "end_time": "2021-03-25T14:26:32.733057",
     "exception": false,
     "start_time": "2021-03-25T14:26:32.273596",
     "status": "completed"
    },
    "tags": []
   },
   "outputs": [
    {
     "name": "stdout",
     "output_type": "stream",
     "text": [
      "(8177, 224, 224, 3) (8177, 120)\n",
      "(2045, 224, 224, 3) (2045, 120)\n"
     ]
    }
   ],
   "source": [
    "print(X_train.shape, Y_train.shape)\n",
    "print(X_valid.shape,Y_valid.shape)"
   ]
  },
  {
   "cell_type": "markdown",
   "metadata": {
    "papermill": {
     "duration": 0.447792,
     "end_time": "2021-03-25T14:26:33.629660",
     "exception": false,
     "start_time": "2021-03-25T14:26:33.181868",
     "status": "completed"
    },
    "tags": []
   },
   "source": [
    "## Создаем генератор изображений"
   ]
  },
  {
   "cell_type": "code",
   "execution_count": 9,
   "metadata": {
    "execution": {
     "iopub.execute_input": "2021-03-25T14:26:34.544145Z",
     "iopub.status.busy": "2021-03-25T14:26:34.542857Z",
     "iopub.status.idle": "2021-03-25T14:26:41.825270Z",
     "shell.execute_reply": "2021-03-25T14:26:41.824144Z"
    },
    "papermill": {
     "duration": 7.741172,
     "end_time": "2021-03-25T14:26:41.825392",
     "exception": false,
     "start_time": "2021-03-25T14:26:34.084220",
     "status": "completed"
    },
    "tags": []
   },
   "outputs": [],
   "source": [
    "train_datagen = ImageDataGenerator(rescale=1./255,\n",
    "                            rotation_range=35, #поворот\n",
    "                            horizontal_flip=True,\n",
    "                            vertical_flip=True,\n",
    "                            shear_range=15\n",
    "                                )\n",
    "\n",
    "test_datagen = ImageDataGenerator(rescale=1./255)\n",
    "\n",
    "train_datagen.fit(X_train)\n",
    "test_datagen.fit(X_valid)\n",
    "\n",
    "# Создаем генераторы \n",
    "train_generator =train_datagen.flow(X_train, Y_train, \n",
    "                               batch_size=batch_size)\n",
    "\n",
    "test_generator =test_datagen.flow(X_valid, Y_valid,\n",
    "                              batch_size=batch_size)\n",
    "\n"
   ]
  },
  {
   "cell_type": "code",
   "execution_count": 10,
   "metadata": {
    "execution": {
     "iopub.execute_input": "2021-03-25T14:26:42.736247Z",
     "iopub.status.busy": "2021-03-25T14:26:42.735696Z",
     "iopub.status.idle": "2021-03-25T14:26:43.088144Z",
     "shell.execute_reply": "2021-03-25T14:26:43.087710Z"
    },
    "papermill": {
     "duration": 0.811952,
     "end_time": "2021-03-25T14:26:43.088252",
     "exception": false,
     "start_time": "2021-03-25T14:26:42.276300",
     "status": "completed"
    },
    "tags": []
   },
   "outputs": [
    {
     "name": "stdout",
     "output_type": "stream",
     "text": [
      "<class 'numpy.ndarray'>\n",
      "8177\n",
      "(32, 224, 224, 3)\n",
      "(32, 120)\n"
     ]
    }
   ],
   "source": [
    "x,y = next(train_generator)\n",
    "\n",
    "print(type(x))\n",
    "print(train_generator.n)\n",
    "print(x.shape)\n",
    "print(y.shape)\n",
    "del x,y"
   ]
  },
  {
   "cell_type": "markdown",
   "metadata": {
    "papermill": {
     "duration": 0.447782,
     "end_time": "2021-03-25T14:26:43.984411",
     "exception": false,
     "start_time": "2021-03-25T14:26:43.536629",
     "status": "completed"
    },
    "tags": []
   },
   "source": [
    "## Создаем модель нейросети"
   ]
  },
  {
   "cell_type": "code",
   "execution_count": 11,
   "metadata": {
    "_kg_hide-output": false,
    "execution": {
     "iopub.execute_input": "2021-03-25T14:26:44.997912Z",
     "iopub.status.busy": "2021-03-25T14:26:44.995195Z",
     "iopub.status.idle": "2021-03-25T14:26:48.228899Z",
     "shell.execute_reply": "2021-03-25T14:26:48.228352Z"
    },
    "papermill": {
     "duration": 3.714542,
     "end_time": "2021-03-25T14:26:48.229013",
     "exception": false,
     "start_time": "2021-03-25T14:26:44.514471",
     "status": "completed"
    },
    "tags": []
   },
   "outputs": [],
   "source": [
    "\n",
    "# Создаем последовательную модель\n",
    "model = Sequential()\n",
    "\n",
    "# сверточный слой\n",
    "model.add(Conv2D(64, (3, 3), padding='same',input_shape=(img_size, img_size, 3), activation='relu'))\n",
    "# сверточный слой\n",
    "model.add(Conv2D(64, (3, 3), activation='relu', padding='same'))\n",
    "# первый слой подвыборки\n",
    "model.add(MaxPooling2D(pool_size=(2, 2), strides=(2,2),padding='same'))\n",
    "# Слой регуляризации Dropout\n",
    "model.add(Dropout(0.20))\n",
    "\n",
    "\n",
    "# сверточный слой\n",
    "model.add(Conv2D(128, (3, 3), padding='same', activation='relu'))\n",
    "# сверточный слой\n",
    "model.add(Conv2D(128, (3, 3), activation='relu', padding='same'))\n",
    "# Второй слой подвыборки\n",
    "model.add(MaxPooling2D(pool_size=(2, 2), strides=(2,2),padding='same'))\n",
    "# Слой регуляризации Dropout\n",
    "model.add(Dropout(0.20))\n",
    "\n",
    "\n",
    "# сверточный слой\n",
    "model.add(Conv2D(256, (3, 3), padding='same', activation='relu'))\n",
    "# сверточный слой\n",
    "model.add(Conv2D(256, (3, 3), activation='relu', padding='same'))\n",
    "# сверточный слой\n",
    "model.add(Conv2D(256, (3, 3), activation='relu', padding='same'))\n",
    "# Третий слой подвыборки\n",
    "model.add(MaxPooling2D(pool_size=(2, 2), strides=(2,2),padding='same'))\n",
    "# Слой регуляризации Dropout\n",
    "model.add(Dropout(0.20))\n",
    "\n",
    "# сверточный слой\n",
    "model.add(Conv2D(512, (3, 3), padding='same', activation='relu'))\n",
    "# сверточный слой\n",
    "model.add(Conv2D(512, (3, 3), activation='relu', padding='same'))\n",
    "# сверточный слой\n",
    "model.add(Conv2D(512, (3, 3), activation='relu', padding='same'))\n",
    "# Четвертый слой подвыборки\n",
    "model.add(MaxPooling2D(pool_size=(2, 2), strides=(2,2),padding='same'))\n",
    "# Слой регуляризации Dropout\n",
    "model.add(Dropout(0.20))\n",
    "\n",
    "# сверточный слой\n",
    "model.add(Conv2D(512, (3, 3), padding='same', activation='relu'))\n",
    "# сверточный слой\n",
    "model.add(Conv2D(512, (3, 3), activation='relu', padding='same'))\n",
    "# сверточный слой\n",
    "model.add(Conv2D(512, (3, 3), activation='relu', padding='same'))\n",
    "# Четвертый слой подвыборки\n",
    "model.add(MaxPooling2D(pool_size=(2, 2), strides=(2,2),padding='same'))\n",
    "# Слой регуляризации Dropout\n",
    "model.add(Dropout(0.20))\n",
    "\n",
    "\n",
    "\n",
    "\n",
    "\n",
    "# Слой преобразования данных из 2D представления в плоское\n",
    "model.add(Flatten())\n",
    "# Полносвязный слой для классификации\n",
    "model.add(Dense(4096, activation='relu'))\n",
    "model.add(Dropout(0.30))\n",
    "model.add(Dense(1024, activation='relu'))\n",
    "# Слой регуляризации Dropout\n",
    "model.add(Dropout(0.30))\n",
    "\n",
    "\n",
    "# Выходной полносвязный слой\n",
    "model.add(Dense(num_class, activation='softmax'))"
   ]
  },
  {
   "cell_type": "code",
   "execution_count": 12,
   "metadata": {
    "execution": {
     "iopub.execute_input": "2021-03-25T14:26:49.174362Z",
     "iopub.status.busy": "2021-03-25T14:26:49.173415Z",
     "iopub.status.idle": "2021-03-25T14:26:49.181479Z",
     "shell.execute_reply": "2021-03-25T14:26:49.181024Z"
    },
    "papermill": {
     "duration": 0.502197,
     "end_time": "2021-03-25T14:26:49.181578",
     "exception": false,
     "start_time": "2021-03-25T14:26:48.679381",
     "status": "completed"
    },
    "tags": []
   },
   "outputs": [],
   "source": [
    "model.compile(optimizer='adam',\n",
    "          loss='categorical_crossentropy', \n",
    "           metrics=['categorical_accuracy'])"
   ]
  },
  {
   "cell_type": "code",
   "execution_count": 13,
   "metadata": {
    "execution": {
     "iopub.execute_input": "2021-03-25T14:26:50.103929Z",
     "iopub.status.busy": "2021-03-25T14:26:50.102637Z",
     "iopub.status.idle": "2021-03-25T14:26:50.114994Z",
     "shell.execute_reply": "2021-03-25T14:26:50.115963Z"
    },
    "papermill": {
     "duration": 0.472673,
     "end_time": "2021-03-25T14:26:50.116153",
     "exception": false,
     "start_time": "2021-03-25T14:26:49.643480",
     "status": "completed"
    },
    "tags": []
   },
   "outputs": [
    {
     "name": "stdout",
     "output_type": "stream",
     "text": [
      "Model: \"sequential\"\n",
      "_________________________________________________________________\n",
      "Layer (type)                 Output Shape              Param #   \n",
      "=================================================================\n",
      "conv2d (Conv2D)              (None, 224, 224, 64)      1792      \n",
      "_________________________________________________________________\n",
      "conv2d_1 (Conv2D)            (None, 224, 224, 64)      36928     \n",
      "_________________________________________________________________\n",
      "max_pooling2d (MaxPooling2D) (None, 112, 112, 64)      0         \n",
      "_________________________________________________________________\n",
      "dropout (Dropout)            (None, 112, 112, 64)      0         \n",
      "_________________________________________________________________\n",
      "conv2d_2 (Conv2D)            (None, 112, 112, 128)     73856     \n",
      "_________________________________________________________________\n",
      "conv2d_3 (Conv2D)            (None, 112, 112, 128)     147584    \n",
      "_________________________________________________________________\n",
      "max_pooling2d_1 (MaxPooling2 (None, 56, 56, 128)       0         \n",
      "_________________________________________________________________\n",
      "dropout_1 (Dropout)          (None, 56, 56, 128)       0         \n",
      "_________________________________________________________________\n",
      "conv2d_4 (Conv2D)            (None, 56, 56, 256)       295168    \n",
      "_________________________________________________________________\n",
      "conv2d_5 (Conv2D)            (None, 56, 56, 256)       590080    \n",
      "_________________________________________________________________\n",
      "conv2d_6 (Conv2D)            (None, 56, 56, 256)       590080    \n",
      "_________________________________________________________________\n",
      "max_pooling2d_2 (MaxPooling2 (None, 28, 28, 256)       0         \n",
      "_________________________________________________________________\n",
      "dropout_2 (Dropout)          (None, 28, 28, 256)       0         \n",
      "_________________________________________________________________\n",
      "conv2d_7 (Conv2D)            (None, 28, 28, 512)       1180160   \n",
      "_________________________________________________________________\n",
      "conv2d_8 (Conv2D)            (None, 28, 28, 512)       2359808   \n",
      "_________________________________________________________________\n",
      "conv2d_9 (Conv2D)            (None, 28, 28, 512)       2359808   \n",
      "_________________________________________________________________\n",
      "max_pooling2d_3 (MaxPooling2 (None, 14, 14, 512)       0         \n",
      "_________________________________________________________________\n",
      "dropout_3 (Dropout)          (None, 14, 14, 512)       0         \n",
      "_________________________________________________________________\n",
      "conv2d_10 (Conv2D)           (None, 14, 14, 512)       2359808   \n",
      "_________________________________________________________________\n",
      "conv2d_11 (Conv2D)           (None, 14, 14, 512)       2359808   \n",
      "_________________________________________________________________\n",
      "conv2d_12 (Conv2D)           (None, 14, 14, 512)       2359808   \n",
      "_________________________________________________________________\n",
      "max_pooling2d_4 (MaxPooling2 (None, 7, 7, 512)         0         \n",
      "_________________________________________________________________\n",
      "dropout_4 (Dropout)          (None, 7, 7, 512)         0         \n",
      "_________________________________________________________________\n",
      "flatten (Flatten)            (None, 25088)             0         \n",
      "_________________________________________________________________\n",
      "dense (Dense)                (None, 4096)              102764544 \n",
      "_________________________________________________________________\n",
      "dropout_5 (Dropout)          (None, 4096)              0         \n",
      "_________________________________________________________________\n",
      "dense_1 (Dense)              (None, 1024)              4195328   \n",
      "_________________________________________________________________\n",
      "dropout_6 (Dropout)          (None, 1024)              0         \n",
      "_________________________________________________________________\n",
      "dense_2 (Dense)              (None, 120)               123000    \n",
      "=================================================================\n",
      "Total params: 121,797,560\n",
      "Trainable params: 121,797,560\n",
      "Non-trainable params: 0\n",
      "_________________________________________________________________\n",
      "None\n"
     ]
    }
   ],
   "source": [
    "print(model.summary())"
   ]
  },
  {
   "cell_type": "markdown",
   "metadata": {
    "papermill": {
     "duration": 0.454424,
     "end_time": "2021-03-25T14:26:51.022737",
     "exception": false,
     "start_time": "2021-03-25T14:26:50.568313",
     "status": "completed"
    },
    "tags": []
   },
   "source": [
    "Функция для остановки сети и сохранения лучших результатов"
   ]
  },
  {
   "cell_type": "code",
   "execution_count": 14,
   "metadata": {
    "execution": {
     "iopub.execute_input": "2021-03-25T14:26:51.924312Z",
     "iopub.status.busy": "2021-03-25T14:26:51.923752Z",
     "iopub.status.idle": "2021-03-25T14:26:51.927841Z",
     "shell.execute_reply": "2021-03-25T14:26:51.927276Z"
    },
    "papermill": {
     "duration": 0.456782,
     "end_time": "2021-03-25T14:26:51.927943",
     "exception": false,
     "start_time": "2021-03-25T14:26:51.471161",
     "status": "completed"
    },
    "tags": []
   },
   "outputs": [],
   "source": [
    "from keras.callbacks import ModelCheckpoint, EarlyStopping\n",
    "\n",
    "earlystop=EarlyStopping(monitor='val_loss', min_delta=0, patience=5)\n",
    "\n",
    "checkpoint_callback = ModelCheckpoint('model_best.hdf5',\n",
    "                                      monitor='val_categorical_accuracy', \n",
    "                                      #save_best_only=True\n",
    "                                     mode='auto')"
   ]
  },
  {
   "cell_type": "markdown",
   "metadata": {
    "papermill": {
     "duration": 0.444942,
     "end_time": "2021-03-25T14:26:52.821733",
     "exception": false,
     "start_time": "2021-03-25T14:26:52.376791",
     "status": "completed"
    },
    "tags": []
   },
   "source": [
    "## Обучаем нейросеть"
   ]
  },
  {
   "cell_type": "code",
   "execution_count": 15,
   "metadata": {
    "execution": {
     "iopub.execute_input": "2021-03-25T14:26:53.724850Z",
     "iopub.status.busy": "2021-03-25T14:26:53.724124Z",
     "iopub.status.idle": "2021-03-25T14:38:39.384363Z",
     "shell.execute_reply": "2021-03-25T14:38:39.386130Z"
    },
    "papermill": {
     "duration": 706.11404,
     "end_time": "2021-03-25T14:38:39.386318",
     "exception": false,
     "start_time": "2021-03-25T14:26:53.272278",
     "status": "completed"
    },
    "tags": []
   },
   "outputs": [
    {
     "name": "stdout",
     "output_type": "stream",
     "text": [
      "Epoch 1/64\n",
      "255/255 [==============================] - 116s 457ms/step - loss: 4.9039 - categorical_accuracy: 0.0120 - val_loss: 4.7861 - val_categorical_accuracy: 0.0094\n",
      "Epoch 2/64\n",
      "255/255 [==============================] - 115s 452ms/step - loss: 4.7809 - categorical_accuracy: 0.0133 - val_loss: 4.7868 - val_categorical_accuracy: 0.0094\n",
      "Epoch 3/64\n",
      "255/255 [==============================] - 116s 453ms/step - loss: 4.7789 - categorical_accuracy: 0.0130 - val_loss: 4.7884 - val_categorical_accuracy: 0.0094\n",
      "Epoch 4/64\n",
      "255/255 [==============================] - 116s 453ms/step - loss: 4.7787 - categorical_accuracy: 0.0124 - val_loss: 4.7908 - val_categorical_accuracy: 0.0084\n",
      "Epoch 5/64\n",
      "255/255 [==============================] - 116s 456ms/step - loss: 4.7778 - categorical_accuracy: 0.0131 - val_loss: 4.7900 - val_categorical_accuracy: 0.0094\n",
      "Epoch 6/64\n",
      "255/255 [==============================] - 116s 456ms/step - loss: 4.7771 - categorical_accuracy: 0.0131 - val_loss: 4.7907 - val_categorical_accuracy: 0.0089\n"
     ]
    }
   ],
   "source": [
    "history = model.fit(\n",
    "    train_generator,\n",
    "    callbacks=[earlystop, checkpoint_callback],\n",
    "    epochs=Epochs,\n",
    "    steps_per_epoch=train_generator.n // train_generator.batch_size,\n",
    "    validation_data=test_generator,\n",
    "    validation_steps=test_generator.n // test_generator.batch_size\n",
    "    )"
   ]
  },
  {
   "cell_type": "markdown",
   "metadata": {
    "papermill": {
     "duration": 1.161559,
     "end_time": "2021-03-25T14:38:41.539907",
     "exception": false,
     "start_time": "2021-03-25T14:38:40.378348",
     "status": "completed"
    },
    "tags": []
   },
   "source": [
    "## Построим графики процесса обучения"
   ]
  },
  {
   "cell_type": "code",
   "execution_count": 16,
   "metadata": {
    "execution": {
     "iopub.execute_input": "2021-03-25T14:38:43.406911Z",
     "iopub.status.busy": "2021-03-25T14:38:43.406033Z",
     "iopub.status.idle": "2021-03-25T14:38:43.795775Z",
     "shell.execute_reply": "2021-03-25T14:38:43.796196Z"
    },
    "papermill": {
     "duration": 1.343782,
     "end_time": "2021-03-25T14:38:43.796315",
     "exception": false,
     "start_time": "2021-03-25T14:38:42.452533",
     "status": "completed"
    },
    "tags": []
   },
   "outputs": [
    {
     "data": {
      "image/png": "[encoded data removed]",
      "text/plain": [
       "<Figure size 432x288 with 1 Axes>"
      ]
     },
     "metadata": {
      "needs_background": "light"
     },
     "output_type": "display_data"
    },
    {
     "data": {
      "image/png": "[encoded data removed]",
      "text/plain": [
       "<Figure size 432x288 with 1 Axes>"
      ]
     },
     "metadata": {
      "needs_background": "light"
     },
     "output_type": "display_data"
    }
   ],
   "source": [
    "#График точности на валидационной и обучающей выборке\n",
    "gen_graph(history,\n",
    "          \"график точности\")"
   ]
  },
  {
   "cell_type": "markdown",
   "metadata": {
    "papermill": {
     "duration": 0.87992,
     "end_time": "2021-03-25T14:38:45.561147",
     "exception": false,
     "start_time": "2021-03-25T14:38:44.681227",
     "status": "completed"
    },
    "tags": []
   },
   "source": [
    "## Выберем лучшую модель и получим результаты для тестов"
   ]
  },
  {
   "cell_type": "code",
   "execution_count": 17,
   "metadata": {
    "execution": {
     "iopub.execute_input": "2021-03-25T14:38:47.312002Z",
     "iopub.status.busy": "2021-03-25T14:38:47.311231Z",
     "iopub.status.idle": "2021-03-25T14:38:47.314976Z",
     "shell.execute_reply": "2021-03-25T14:38:47.314553Z"
    },
    "papermill": {
     "duration": 0.882752,
     "end_time": "2021-03-25T14:38:47.315068",
     "exception": false,
     "start_time": "2021-03-25T14:38:46.432316",
     "status": "completed"
    },
    "tags": []
   },
   "outputs": [],
   "source": [
    "del X_train, X_valid, Y_train, Y_valid"
   ]
  },
  {
   "cell_type": "code",
   "execution_count": 18,
   "metadata": {
    "execution": {
     "iopub.execute_input": "2021-03-25T14:38:49.059635Z",
     "iopub.status.busy": "2021-03-25T14:38:49.058938Z",
     "iopub.status.idle": "2021-03-25T14:42:11.075573Z",
     "shell.execute_reply": "2021-03-25T14:42:11.074426Z"
    },
    "papermill": {
     "duration": 202.891449,
     "end_time": "2021-03-25T14:42:11.075818",
     "exception": false,
     "start_time": "2021-03-25T14:38:48.184369",
     "status": "completed"
    },
    "tags": []
   },
   "outputs": [
    {
     "name": "stderr",
     "output_type": "stream",
     "text": [
      "100%|██████████| 10357/10357 [03:20<00:00, 51.61it/s]\n"
     ]
    }
   ],
   "source": [
    "images_list = sorted(os.listdir(os.path.join(data_dir, 'test')))\n",
    "x_test=[]\n",
    "for image in tqdm.tqdm(images_list):    \n",
    "    image_path = os.path.join(data_dir, 'test',image)\n",
    "    orig_image = cv2.cvtColor(cv2.imread(image_path), cv2.COLOR_BGR2RGB)\n",
    "    res_image = cv2.resize(orig_image,(img_size, img_size))\n",
    "    x_test.append(res_image)\n",
    "x_test=np.array(x_test)"
   ]
  },
  {
   "cell_type": "code",
   "execution_count": 19,
   "metadata": {
    "execution": {
     "iopub.execute_input": "2021-03-25T14:42:13.881184Z",
     "iopub.status.busy": "2021-03-25T14:42:13.880316Z",
     "iopub.status.idle": "2021-03-25T14:42:13.883186Z",
     "shell.execute_reply": "2021-03-25T14:42:13.883645Z"
    },
    "papermill": {
     "duration": 1.422128,
     "end_time": "2021-03-25T14:42:13.883789",
     "exception": false,
     "start_time": "2021-03-25T14:42:12.461661",
     "status": "completed"
    },
    "tags": []
   },
   "outputs": [
    {
     "data": {
      "text/plain": [
       "(10357, 224, 224, 3)"
      ]
     },
     "execution_count": 19,
     "metadata": {},
     "output_type": "execute_result"
    }
   ],
   "source": [
    "x_test.shape"
   ]
  },
  {
   "cell_type": "code",
   "execution_count": 20,
   "metadata": {
    "execution": {
     "iopub.execute_input": "2021-03-25T14:42:17.121108Z",
     "iopub.status.busy": "2021-03-25T14:42:17.120282Z",
     "iopub.status.idle": "2021-03-25T14:42:21.936240Z",
     "shell.execute_reply": "2021-03-25T14:42:21.935250Z"
    },
    "papermill": {
     "duration": 6.651949,
     "end_time": "2021-03-25T14:42:21.936355",
     "exception": false,
     "start_time": "2021-03-25T14:42:15.284406",
     "status": "completed"
    },
    "tags": []
   },
   "outputs": [],
   "source": [
    "from tensorflow.keras.models import load_model\n",
    "model=load_model(\"model_best.hdf5\")"
   ]
  },
  {
   "cell_type": "code",
   "execution_count": 21,
   "metadata": {
    "execution": {
     "iopub.execute_input": "2021-03-25T14:42:24.589000Z",
     "iopub.status.busy": "2021-03-25T14:42:24.588085Z",
     "iopub.status.idle": "2021-03-25T14:42:44.940654Z",
     "shell.execute_reply": "2021-03-25T14:42:44.940021Z"
    },
    "papermill": {
     "duration": 21.680796,
     "end_time": "2021-03-25T14:42:44.940824",
     "exception": false,
     "start_time": "2021-03-25T14:42:23.260028",
     "status": "completed"
    },
    "tags": []
   },
   "outputs": [],
   "source": [
    "preds = model.predict(x_test)"
   ]
  },
  {
   "cell_type": "code",
   "execution_count": 22,
   "metadata": {
    "execution": {
     "iopub.execute_input": "2021-03-25T14:42:47.664010Z",
     "iopub.status.busy": "2021-03-25T14:42:47.663410Z",
     "iopub.status.idle": "2021-03-25T14:42:48.388648Z",
     "shell.execute_reply": "2021-03-25T14:42:48.390386Z"
    },
    "papermill": {
     "duration": 2.075422,
     "end_time": "2021-03-25T14:42:48.390608",
     "exception": false,
     "start_time": "2021-03-25T14:42:46.315186",
     "status": "completed"
    },
    "tags": []
   },
   "outputs": [],
   "source": [
    "df_train = pd.read_csv(labels_csv)\n",
    "df_test = pd.read_csv(sample_submission_csv)\n",
    "labels = df_train['breed']\n",
    "one_hot = pd.get_dummies(labels, sparse = True)\n",
    "one_hot_labels = np.asarray(one_hot)"
   ]
  },
  {
   "cell_type": "code",
   "execution_count": 23,
   "metadata": {
    "execution": {
     "iopub.execute_input": "2021-03-25T14:42:51.369384Z",
     "iopub.status.busy": "2021-03-25T14:42:51.368818Z",
     "iopub.status.idle": "2021-03-25T14:42:51.468122Z",
     "shell.execute_reply": "2021-03-25T14:42:51.467690Z"
    },
    "papermill": {
     "duration": 1.436134,
     "end_time": "2021-03-25T14:42:51.468220",
     "exception": false,
     "start_time": "2021-03-25T14:42:50.032086",
     "status": "completed"
    },
    "tags": []
   },
   "outputs": [
    {
     "data": {
      "text/html": [
       "<div>\n",
       "<style scoped>\n",
       "    .dataframe tbody tr th:only-of-type {\n",
       "        vertical-align: middle;\n",
       "    }\n",
       "\n",
       "    .dataframe tbody tr th {\n",
       "        vertical-align: top;\n",
       "    }\n",
       "\n",
       "    .dataframe thead th {\n",
       "        text-align: right;\n",
       "    }\n",
       "</style>\n",
       "<table border=\"1\" class=\"dataframe\">\n",
       "  <thead>\n",
       "    <tr style=\"text-align: right;\">\n",
       "      <th></th>\n",
       "      <th>id</th>\n",
       "      <th>affenpinscher</th>\n",
       "      <th>afghan_hound</th>\n",
       "      <th>african_hunting_dog</th>\n",
       "      <th>airedale</th>\n",
       "      <th>american_staffordshire_terrier</th>\n",
       "      <th>appenzeller</th>\n",
       "      <th>australian_terrier</th>\n",
       "      <th>basenji</th>\n",
       "      <th>basset</th>\n",
       "      <th>...</th>\n",
       "      <th>toy_poodle</th>\n",
       "      <th>toy_terrier</th>\n",
       "      <th>vizsla</th>\n",
       "      <th>walker_hound</th>\n",
       "      <th>weimaraner</th>\n",
       "      <th>welsh_springer_spaniel</th>\n",
       "      <th>west_highland_white_terrier</th>\n",
       "      <th>whippet</th>\n",
       "      <th>wire-haired_fox_terrier</th>\n",
       "      <th>yorkshire_terrier</th>\n",
       "    </tr>\n",
       "  </thead>\n",
       "  <tbody>\n",
       "    <tr>\n",
       "      <th>0</th>\n",
       "      <td>000621fb3cbb32d8935728e48679680e</td>\n",
       "      <td>0.008211</td>\n",
       "      <td>0.019793</td>\n",
       "      <td>0.010139</td>\n",
       "      <td>0.017985</td>\n",
       "      <td>0.006580</td>\n",
       "      <td>0.005352</td>\n",
       "      <td>0.014269</td>\n",
       "      <td>0.021809</td>\n",
       "      <td>0.006224</td>\n",
       "      <td>...</td>\n",
       "      <td>0.005174</td>\n",
       "      <td>0.005273</td>\n",
       "      <td>0.003654</td>\n",
       "      <td>0.004628</td>\n",
       "      <td>0.007491</td>\n",
       "      <td>0.006211</td>\n",
       "      <td>0.005169</td>\n",
       "      <td>0.010497</td>\n",
       "      <td>0.008139</td>\n",
       "      <td>0.006915</td>\n",
       "    </tr>\n",
       "    <tr>\n",
       "      <th>1</th>\n",
       "      <td>00102ee9d8eb90812350685311fe5890</td>\n",
       "      <td>0.007984</td>\n",
       "      <td>0.022539</td>\n",
       "      <td>0.010296</td>\n",
       "      <td>0.020322</td>\n",
       "      <td>0.006006</td>\n",
       "      <td>0.004748</td>\n",
       "      <td>0.015104</td>\n",
       "      <td>0.025305</td>\n",
       "      <td>0.005636</td>\n",
       "      <td>...</td>\n",
       "      <td>0.004533</td>\n",
       "      <td>0.004771</td>\n",
       "      <td>0.002986</td>\n",
       "      <td>0.004023</td>\n",
       "      <td>0.007110</td>\n",
       "      <td>0.005630</td>\n",
       "      <td>0.004531</td>\n",
       "      <td>0.010625</td>\n",
       "      <td>0.007738</td>\n",
       "      <td>0.006341</td>\n",
       "    </tr>\n",
       "    <tr>\n",
       "      <th>2</th>\n",
       "      <td>0012a730dfa437f5f3613fb75efcd4ce</td>\n",
       "      <td>0.008340</td>\n",
       "      <td>0.017777</td>\n",
       "      <td>0.009967</td>\n",
       "      <td>0.016270</td>\n",
       "      <td>0.006955</td>\n",
       "      <td>0.005804</td>\n",
       "      <td>0.013584</td>\n",
       "      <td>0.019273</td>\n",
       "      <td>0.006642</td>\n",
       "      <td>...</td>\n",
       "      <td>0.005661</td>\n",
       "      <td>0.005677</td>\n",
       "      <td>0.004216</td>\n",
       "      <td>0.005114</td>\n",
       "      <td>0.007708</td>\n",
       "      <td>0.006628</td>\n",
       "      <td>0.005680</td>\n",
       "      <td>0.010367</td>\n",
       "      <td>0.008327</td>\n",
       "      <td>0.007317</td>\n",
       "    </tr>\n",
       "    <tr>\n",
       "      <th>3</th>\n",
       "      <td>001510bc8570bbeee98c8d80c8a95ec1</td>\n",
       "      <td>0.008048</td>\n",
       "      <td>0.021756</td>\n",
       "      <td>0.010277</td>\n",
       "      <td>0.019649</td>\n",
       "      <td>0.006143</td>\n",
       "      <td>0.004886</td>\n",
       "      <td>0.014933</td>\n",
       "      <td>0.024201</td>\n",
       "      <td>0.005807</td>\n",
       "      <td>...</td>\n",
       "      <td>0.004691</td>\n",
       "      <td>0.004959</td>\n",
       "      <td>0.003154</td>\n",
       "      <td>0.004181</td>\n",
       "      <td>0.007237</td>\n",
       "      <td>0.005808</td>\n",
       "      <td>0.004708</td>\n",
       "      <td>0.010597</td>\n",
       "      <td>0.007832</td>\n",
       "      <td>0.006532</td>\n",
       "    </tr>\n",
       "    <tr>\n",
       "      <th>4</th>\n",
       "      <td>001a5f3114548acdefa3d4da05474c2e</td>\n",
       "      <td>0.008207</td>\n",
       "      <td>0.019965</td>\n",
       "      <td>0.010170</td>\n",
       "      <td>0.018131</td>\n",
       "      <td>0.006505</td>\n",
       "      <td>0.005288</td>\n",
       "      <td>0.014348</td>\n",
       "      <td>0.021892</td>\n",
       "      <td>0.006196</td>\n",
       "      <td>...</td>\n",
       "      <td>0.005112</td>\n",
       "      <td>0.005279</td>\n",
       "      <td>0.003602</td>\n",
       "      <td>0.004590</td>\n",
       "      <td>0.007450</td>\n",
       "      <td>0.006176</td>\n",
       "      <td>0.005141</td>\n",
       "      <td>0.010518</td>\n",
       "      <td>0.008082</td>\n",
       "      <td>0.006881</td>\n",
       "    </tr>\n",
       "  </tbody>\n",
       "</table>\n",
       "<p>5 rows × 121 columns</p>\n",
       "</div>"
      ],
      "text/plain": [
       "                                 id  affenpinscher  afghan_hound  \\\n",
       "0  000621fb3cbb32d8935728e48679680e       0.008211      0.019793   \n",
       "1  00102ee9d8eb90812350685311fe5890       0.007984      0.022539   \n",
       "2  0012a730dfa437f5f3613fb75efcd4ce       0.008340      0.017777   \n",
       "3  001510bc8570bbeee98c8d80c8a95ec1       0.008048      0.021756   \n",
       "4  001a5f3114548acdefa3d4da05474c2e       0.008207      0.019965   \n",
       "\n",
       "   african_hunting_dog  airedale  american_staffordshire_terrier  appenzeller  \\\n",
       "0             0.010139  0.017985                        0.006580     0.005352   \n",
       "1             0.010296  0.020322                        0.006006     0.004748   \n",
       "2             0.009967  0.016270                        0.006955     0.005804   \n",
       "3             0.010277  0.019649                        0.006143     0.004886   \n",
       "4             0.010170  0.018131                        0.006505     0.005288   \n",
       "\n",
       "   australian_terrier   basenji    basset  ...  toy_poodle  toy_terrier  \\\n",
       "0            0.014269  0.021809  0.006224  ...    0.005174     0.005273   \n",
       "1            0.015104  0.025305  0.005636  ...    0.004533     0.004771   \n",
       "2            0.013584  0.019273  0.006642  ...    0.005661     0.005677   \n",
       "3            0.014933  0.024201  0.005807  ...    0.004691     0.004959   \n",
       "4            0.014348  0.021892  0.006196  ...    0.005112     0.005279   \n",
       "\n",
       "     vizsla  walker_hound  weimaraner  welsh_springer_spaniel  \\\n",
       "0  0.003654      0.004628    0.007491                0.006211   \n",
       "1  0.002986      0.004023    0.007110                0.005630   \n",
       "2  0.004216      0.005114    0.007708                0.006628   \n",
       "3  0.003154      0.004181    0.007237                0.005808   \n",
       "4  0.003602      0.004590    0.007450                0.006176   \n",
       "\n",
       "   west_highland_white_terrier   whippet  wire-haired_fox_terrier  \\\n",
       "0                     0.005169  0.010497                 0.008139   \n",
       "1                     0.004531  0.010625                 0.007738   \n",
       "2                     0.005680  0.010367                 0.008327   \n",
       "3                     0.004708  0.010597                 0.007832   \n",
       "4                     0.005141  0.010518                 0.008082   \n",
       "\n",
       "   yorkshire_terrier  \n",
       "0           0.006915  \n",
       "1           0.006341  \n",
       "2           0.007317  \n",
       "3           0.006532  \n",
       "4           0.006881  \n",
       "\n",
       "[5 rows x 121 columns]"
      ]
     },
     "execution_count": 23,
     "metadata": {},
     "output_type": "execute_result"
    }
   ],
   "source": [
    "sub = pd.DataFrame(preds)\n",
    "col_names = one_hot.columns.values\n",
    "sub.columns = col_names\n",
    "sub.insert(0, 'id', df_test['id'])\n",
    "sub.head(5)"
   ]
  },
  {
   "cell_type": "code",
   "execution_count": 24,
   "metadata": {
    "execution": {
     "iopub.execute_input": "2021-03-25T14:42:54.462784Z",
     "iopub.status.busy": "2021-03-25T14:42:54.461881Z",
     "iopub.status.idle": "2021-03-25T14:42:57.135530Z",
     "shell.execute_reply": "2021-03-25T14:42:57.134958Z"
    },
    "papermill": {
     "duration": 4.321919,
     "end_time": "2021-03-25T14:42:57.135650",
     "exception": false,
     "start_time": "2021-03-25T14:42:52.813731",
     "status": "completed"
    },
    "tags": []
   },
   "outputs": [],
   "source": [
    "sub.to_csv(\"output_rmsprop_aug.csv\", index=False)"
   ]
  }
 ],
 "metadata": {
  "kernelspec": {
   "display_name": "Python 3",
   "language": "python",
   "name": "python3"
  },
  "language_info": {
   "codemirror_mode": {
    "name": "ipython",
    "version": 3
   },
   "file_extension": ".py",
   "mimetype": "text/x-python",
   "name": "python",
   "nbconvert_exporter": "python",
   "pygments_lexer": "ipython3",
   "version": "3.7.6"
  },
  "papermill": {
   "duration": 1190.905018,
   "end_time": "2021-03-25T14:42:59.802529",
   "environment_variables": {},
   "exception": null,
   "input_path": "__notebook__.ipynb",
   "output_path": "__notebook__.ipynb",
   "parameters": {},
   "start_time": "2021-03-25T14:23:08.897511",
   "version": "2.1.0"
  }
 },
 "nbformat": 4,
 "nbformat_minor": 4
}
